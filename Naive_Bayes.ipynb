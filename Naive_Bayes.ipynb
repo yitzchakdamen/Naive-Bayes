{
 "cells": [
  {
   "cell_type": "code",
   "execution_count": null,
   "id": "2e0d98d4",
   "metadata": {},
   "outputs": [],
   "source": [
    "import pandas as pd"
   ]
  },
  {
   "cell_type": "code",
   "execution_count": 52,
   "id": "8d1b88b9",
   "metadata": {},
   "outputs": [
    {
     "data": {
      "text/html": [
       "<div>\n",
       "<style scoped>\n",
       "    .dataframe tbody tr th:only-of-type {\n",
       "        vertical-align: middle;\n",
       "    }\n",
       "\n",
       "    .dataframe tbody tr th {\n",
       "        vertical-align: top;\n",
       "    }\n",
       "\n",
       "    .dataframe thead th {\n",
       "        text-align: right;\n",
       "    }\n",
       "</style>\n",
       "<table border=\"1\" class=\"dataframe\">\n",
       "  <thead>\n",
       "    <tr style=\"text-align: right;\">\n",
       "      <th></th>\n",
       "      <th>income</th>\n",
       "      <th>student</th>\n",
       "      <th>credit_rating</th>\n",
       "      <th>buys_computer</th>\n",
       "      <th>age_group</th>\n",
       "    </tr>\n",
       "  </thead>\n",
       "  <tbody>\n",
       "    <tr>\n",
       "      <th>0</th>\n",
       "      <td>high</td>\n",
       "      <td>no</td>\n",
       "      <td>fair</td>\n",
       "      <td>no</td>\n",
       "      <td>Very Young</td>\n",
       "    </tr>\n",
       "    <tr>\n",
       "      <th>1</th>\n",
       "      <td>high</td>\n",
       "      <td>no</td>\n",
       "      <td>excellent</td>\n",
       "      <td>no</td>\n",
       "      <td>Very Young</td>\n",
       "    </tr>\n",
       "    <tr>\n",
       "      <th>2</th>\n",
       "      <td>high</td>\n",
       "      <td>no</td>\n",
       "      <td>fair</td>\n",
       "      <td>yes</td>\n",
       "      <td>Young</td>\n",
       "    </tr>\n",
       "    <tr>\n",
       "      <th>3</th>\n",
       "      <td>medium</td>\n",
       "      <td>no</td>\n",
       "      <td>fair</td>\n",
       "      <td>yes</td>\n",
       "      <td>Senior</td>\n",
       "    </tr>\n",
       "    <tr>\n",
       "      <th>4</th>\n",
       "      <td>low</td>\n",
       "      <td>yes</td>\n",
       "      <td>fair</td>\n",
       "      <td>yes</td>\n",
       "      <td>Senior</td>\n",
       "    </tr>\n",
       "    <tr>\n",
       "      <th>5</th>\n",
       "      <td>low</td>\n",
       "      <td>yes</td>\n",
       "      <td>excellent</td>\n",
       "      <td>no</td>\n",
       "      <td>Senior</td>\n",
       "    </tr>\n",
       "    <tr>\n",
       "      <th>6</th>\n",
       "      <td>low</td>\n",
       "      <td>yes</td>\n",
       "      <td>excellent</td>\n",
       "      <td>yes</td>\n",
       "      <td>Young</td>\n",
       "    </tr>\n",
       "    <tr>\n",
       "      <th>7</th>\n",
       "      <td>medium</td>\n",
       "      <td>no</td>\n",
       "      <td>fair</td>\n",
       "      <td>no</td>\n",
       "      <td>Very Young</td>\n",
       "    </tr>\n",
       "    <tr>\n",
       "      <th>8</th>\n",
       "      <td>low</td>\n",
       "      <td>yes</td>\n",
       "      <td>fair</td>\n",
       "      <td>yes</td>\n",
       "      <td>Very Young</td>\n",
       "    </tr>\n",
       "    <tr>\n",
       "      <th>9</th>\n",
       "      <td>medium</td>\n",
       "      <td>yes</td>\n",
       "      <td>fair</td>\n",
       "      <td>yes</td>\n",
       "      <td>Senior</td>\n",
       "    </tr>\n",
       "    <tr>\n",
       "      <th>10</th>\n",
       "      <td>medium</td>\n",
       "      <td>yes</td>\n",
       "      <td>excellent</td>\n",
       "      <td>yes</td>\n",
       "      <td>Very Young</td>\n",
       "    </tr>\n",
       "    <tr>\n",
       "      <th>11</th>\n",
       "      <td>medium</td>\n",
       "      <td>no</td>\n",
       "      <td>excellent</td>\n",
       "      <td>yes</td>\n",
       "      <td>Young</td>\n",
       "    </tr>\n",
       "    <tr>\n",
       "      <th>12</th>\n",
       "      <td>high</td>\n",
       "      <td>yes</td>\n",
       "      <td>fair</td>\n",
       "      <td>yes</td>\n",
       "      <td>Young</td>\n",
       "    </tr>\n",
       "    <tr>\n",
       "      <th>13</th>\n",
       "      <td>medium</td>\n",
       "      <td>no</td>\n",
       "      <td>excellent</td>\n",
       "      <td>no</td>\n",
       "      <td>Senior</td>\n",
       "    </tr>\n",
       "  </tbody>\n",
       "</table>\n",
       "</div>"
      ],
      "text/plain": [
       "    income student credit_rating buys_computer   age_group\n",
       "0     high      no          fair            no  Very Young\n",
       "1     high      no     excellent            no  Very Young\n",
       "2     high      no          fair           yes       Young\n",
       "3   medium      no          fair           yes      Senior\n",
       "4      low     yes          fair           yes      Senior\n",
       "5      low     yes     excellent            no      Senior\n",
       "6      low     yes     excellent           yes       Young\n",
       "7   medium      no          fair            no  Very Young\n",
       "8      low     yes          fair           yes  Very Young\n",
       "9   medium     yes          fair           yes      Senior\n",
       "10  medium     yes     excellent           yes  Very Young\n",
       "11  medium      no     excellent           yes       Young\n",
       "12    high     yes          fair           yes       Young\n",
       "13  medium      no     excellent            no      Senior"
      ]
     },
     "execution_count": 52,
     "metadata": {},
     "output_type": "execute_result"
    }
   ],
   "source": [
    "df = pd.read_csv(\"buy_computer_data.csv\")\n",
    "df"
   ]
  },
  {
   "cell_type": "code",
   "execution_count": 53,
   "id": "4798d367",
   "metadata": {},
   "outputs": [
    {
     "data": {
      "text/plain": [
       "'income'"
      ]
     },
     "metadata": {},
     "output_type": "display_data"
    },
    {
     "data": {
      "text/plain": [
       "3"
      ]
     },
     "metadata": {},
     "output_type": "display_data"
    },
    {
     "data": {
      "text/plain": [
       "['high', 'medium', 'low']"
      ]
     },
     "metadata": {},
     "output_type": "display_data"
    },
    {
     "data": {
      "text/plain": [
       "'student'"
      ]
     },
     "metadata": {},
     "output_type": "display_data"
    },
    {
     "data": {
      "text/plain": [
       "2"
      ]
     },
     "metadata": {},
     "output_type": "display_data"
    },
    {
     "data": {
      "text/plain": [
       "['no', 'yes']"
      ]
     },
     "metadata": {},
     "output_type": "display_data"
    },
    {
     "data": {
      "text/plain": [
       "'credit_rating'"
      ]
     },
     "metadata": {},
     "output_type": "display_data"
    },
    {
     "data": {
      "text/plain": [
       "2"
      ]
     },
     "metadata": {},
     "output_type": "display_data"
    },
    {
     "data": {
      "text/plain": [
       "['fair', 'excellent']"
      ]
     },
     "metadata": {},
     "output_type": "display_data"
    },
    {
     "data": {
      "text/plain": [
       "'buys_computer'"
      ]
     },
     "metadata": {},
     "output_type": "display_data"
    },
    {
     "data": {
      "text/plain": [
       "2"
      ]
     },
     "metadata": {},
     "output_type": "display_data"
    },
    {
     "data": {
      "text/plain": [
       "['no', 'yes']"
      ]
     },
     "metadata": {},
     "output_type": "display_data"
    },
    {
     "data": {
      "text/plain": [
       "'age_group'"
      ]
     },
     "metadata": {},
     "output_type": "display_data"
    },
    {
     "data": {
      "text/plain": [
       "3"
      ]
     },
     "metadata": {},
     "output_type": "display_data"
    },
    {
     "data": {
      "text/plain": [
       "['Very Young', 'Young', 'Senior']"
      ]
     },
     "metadata": {},
     "output_type": "display_data"
    }
   ],
   "source": [
    "df.income.unique().size\n",
    "\n",
    "for i in df.columns:\n",
    "    display(i, df[i].unique().size, df[i].unique().tolist())"
   ]
  },
  {
   "cell_type": "code",
   "execution_count": 54,
   "id": "043498af",
   "metadata": {},
   "outputs": [
    {
     "data": {
      "text/plain": [
       "0.35714285714285715"
      ]
     },
     "execution_count": 54,
     "metadata": {},
     "output_type": "execute_result"
    }
   ],
   "source": [
    "\n",
    "target_variable = \"buys_computer\"\n",
    "# if target_variable in df.columns:\n",
    "#     df[target_variable] = df[target_variable].str.lower()\n",
    "#     if  sorted(df[target_variable].unique()) == [\"no\", \"yes\"]:\n",
    "num_target_variable = df[target_variable].size\n",
    "\n",
    "yes_count = sum(df[target_variable] == \"yes\")\n",
    "no_count = sum(df[target_variable] == \"no\")\n",
    "target_variable_Percentage_Yes = yes_count / num_target_variable\n",
    "target_variable_Percent_No = no_count  / num_target_variable\n",
    "target_variable_Percent_No"
   ]
  },
  {
   "cell_type": "code",
   "execution_count": 56,
   "id": "60ed2538",
   "metadata": {},
   "outputs": [
    {
     "data": {
      "text/plain": [
       "{'yes': {'income': {'high': 0.2222222222222222,\n",
       "   'medium': 0.4444444444444444,\n",
       "   'low': 0.3333333333333333},\n",
       "  'student': {'no': 0.3333333333333333, 'yes': 0.6666666666666666},\n",
       "  'credit_rating': {'fair': 0.6666666666666666,\n",
       "   'excellent': 0.3333333333333333},\n",
       "  'age_group': {'Very Young': 0.2222222222222222,\n",
       "   'Young': 0.4444444444444444,\n",
       "   'Senior': 0.3333333333333333}},\n",
       " 'no': {'income': {'high': 0.4, 'medium': 0.4, 'low': 0.2},\n",
       "  'student': {'no': 0.8, 'yes': 0.2},\n",
       "  'credit_rating': {'fair': 0.4, 'excellent': 0.6},\n",
       "  'age_group': {'Very Young': 0.6, 'Young': 0.0, 'Senior': 0.4}},\n",
       " 'target_variable_Percentage_Yes': 0.6428571428571429,\n",
       " 'target_variable_Percent_No': 0.35714285714285715}"
      ]
     },
     "execution_count": 56,
     "metadata": {},
     "output_type": "execute_result"
    }
   ],
   "source": [
    "model = {\"yes\":{},\"no\":{} ,\"target_variable_Percentage_Yes\": yes_count / num_target_variable, \"target_variable_Percent_No\": no_count  / num_target_variable}\n",
    "\n",
    "for category in df:\n",
    "    if category == target_variable:\n",
    "        continue \n",
    "    \n",
    "    model[\"yes\"][category] = {}\n",
    "    model[\"no\"][category]= {}\n",
    "    \n",
    "    k = df[category].nunique()\n",
    "    \n",
    "    for parameter in df[category].unique():\n",
    "        df_parameter: pd.Series = df[category] == parameter\n",
    "        model[\"yes\"][category][parameter] = (sum((df_parameter) &  (df[target_variable] == \"yes\")) ) / (yes_count)\n",
    "        model[\"no\"][category][parameter] = (sum((df_parameter) &  (df[target_variable] == \"no\")) ) / (no_count )\n",
    "\n",
    "model"
   ]
  },
  {
   "cell_type": "code",
   "execution_count": null,
   "id": "278f4b96",
   "metadata": {},
   "outputs": [],
   "source": [
    "\n",
    "# buys_computer\tyes\t\n",
    "yes = 1\n",
    "no = 1\n",
    "p = {\"income\":\"high\",\"student\":\"no\", \"credit_rating\":\"fair\", \"age_group\":\"Very Young\"} \n",
    "for category in p:\n",
    "    yes *= model[\"yes\"][category][p[category]]\n",
    "    no *= model[\"no\"][category][p[category]]\n",
    "yes *= target_variable_Percentage_Yes\n",
    "no *= target_variable_Percent_No\n",
    "display(yes, no)\n",
    "r = \"yes\" if yes > no else \"no\"\n",
    "r"
   ]
  },
  {
   "cell_type": "code",
   "execution_count": null,
   "id": "afd21071",
   "metadata": {},
   "outputs": [],
   "source": [
    "a = { \"cap-shape\", \"cap-surface\", \"cap-color\", \"bruises\", \"odor\",\n",
    "    \"gill-attachment\", \"gill-spacing\", \"gill-size\", \"gill-color\",\n",
    "    \"stalk-shape\", \"stalk-root\", \"stalk-surface-above-ring\", \"stalk-surface-below-ring\",\n",
    "    \"stalk-color-above-ring\", \"stalk-color-below-ring\", \"veil-type\", \"veil-color\",\n",
    "    \"ring-number\", \"ring-type\", \"spore-print-color\", \"population\", \"habitat\"\n",
    "\n",
    "b =  ['x','y','w','t','p',\"f\",\"c\",\"n\",\"n\",'e',\"e\",\"s\",'s',\"w\",\"w\",\"p\",\"w\",\"o\",\"p\",\"n\",\"s\",\"u\"]\n",
    "z = pd.Series(data=a, index=b)\n",
    "z\n"
   ]
  },
  {
   "cell_type": "code",
   "execution_count": null,
   "id": "5400255b",
   "metadata": {},
   "outputs": [],
   "source": [
    "keys = [\n",
    "    \"cap-shape\", \"cap-surface\", \"cap-color\", \"bruises\", \"odor\",\n",
    "    \"gill-attachment\", \"gill-spacing\", \"gill-size\", \"gill-color\",\n",
    "    \"stalk-shape\", \"stalk-root\", \"stalk-surface-above-ring\", \"stalk-surface-below-ring\",\n",
    "    \"stalk-color-above-ring\", \"stalk-color-below-ring\", \"veil-type\", \"veil-color\",\n",
    "    \"ring-number\", \"ring-type\", \"spore-print-color\", \"population\", \"habitat\"\n",
    "]\n",
    "\n",
    "values = [\n",
    "    \"x\", \"s\", \"n\", \"t\", \"p\", \"f\", \"c\", \"n\", \"k\", \"e\",\n",
    "    \"e\", \"s\", \"s\", \"w\", \"w\", \"p\", \"w\", \"o\", \"p\", \"k\", \"s\", \"u\"\n",
    "]\n",
    "\n",
    "# יצירת המילון\n",
    "result_dict = dict(zip(keys, values))\n",
    "\n",
    "# הדפסה לבדיקה\n",
    "print(result_dict)\n"
   ]
  },
  {
   "cell_type": "code",
   "execution_count": null,
   "id": "d3016ee0",
   "metadata": {},
   "outputs": [],
   "source": [
    "df = pd.read_csv(\"agaricus-lepiota.csv\")"
   ]
  },
  {
   "cell_type": "code",
   "execution_count": null,
   "id": "c8059b53",
   "metadata": {},
   "outputs": [],
   "source": [
    "\n",
    "for i in df.index:\n",
    "    print(df.iloc[i].to_dict())\n",
    "    # print(df.iloc[i,:].to_list())\n"
   ]
  },
  {
   "cell_type": "code",
   "execution_count": null,
   "id": "ee6aa8a5",
   "metadata": {},
   "outputs": [],
   "source": [
    "df.columns = ['e;mv;pdmnv', 'xlkdnvdkd', 'y', 'y', 't', 'l', 'f', 'c', 'b', 'g', 'e', 'c', 's', 's', 'w', 'w', 'p', 'w', 'o', 'p', 'n', 'n', 'g']\n",
    "df.head()"
   ]
  },
  {
   "cell_type": "code",
   "execution_count": null,
   "id": "49f452f1",
   "metadata": {},
   "outputs": [],
   "source": [
    "\n",
    "df['target'] = df.pop('target')\n"
   ]
  },
  {
   "cell_type": "code",
   "execution_count": null,
   "id": "b896dd11",
   "metadata": {},
   "outputs": [
    {
     "data": {
      "text/plain": [
       "8123"
      ]
     },
     "execution_count": 34,
     "metadata": {},
     "output_type": "execute_result"
    }
   ],
   "source": [
    "df.shape[0] * 0"
   ]
  },
  {
   "cell_type": "code",
   "execution_count": null,
   "id": "28c78b1b",
   "metadata": {},
   "outputs": [
    {
     "data": {
      "text/html": [
       "<div>\n",
       "<style scoped>\n",
       "    .dataframe tbody tr th:only-of-type {\n",
       "        vertical-align: middle;\n",
       "    }\n",
       "\n",
       "    .dataframe tbody tr th {\n",
       "        vertical-align: top;\n",
       "    }\n",
       "\n",
       "    .dataframe thead th {\n",
       "        text-align: right;\n",
       "    }\n",
       "</style>\n",
       "<table border=\"1\" class=\"dataframe\">\n",
       "  <thead>\n",
       "    <tr style=\"text-align: right;\">\n",
       "      <th></th>\n",
       "      <th>e;mv;pdmnv</th>\n",
       "      <th>y</th>\n",
       "      <th>y</th>\n",
       "      <th>t</th>\n",
       "      <th>l</th>\n",
       "      <th>f</th>\n",
       "      <th>c</th>\n",
       "      <th>b</th>\n",
       "      <th>g</th>\n",
       "      <th>e</th>\n",
       "      <th>...</th>\n",
       "      <th>w</th>\n",
       "      <th>w</th>\n",
       "      <th>p</th>\n",
       "      <th>w</th>\n",
       "      <th>o</th>\n",
       "      <th>p</th>\n",
       "      <th>n</th>\n",
       "      <th>n</th>\n",
       "      <th>g</th>\n",
       "      <th>xlkdnvdkd</th>\n",
       "    </tr>\n",
       "  </thead>\n",
       "  <tbody>\n",
       "    <tr>\n",
       "      <th>2030</th>\n",
       "      <td>e</td>\n",
       "      <td>s</td>\n",
       "      <td>n</td>\n",
       "      <td>f</td>\n",
       "      <td>n</td>\n",
       "      <td>f</td>\n",
       "      <td>w</td>\n",
       "      <td>b</td>\n",
       "      <td>h</td>\n",
       "      <td>t</td>\n",
       "      <td>...</td>\n",
       "      <td>w</td>\n",
       "      <td>w</td>\n",
       "      <td>p</td>\n",
       "      <td>w</td>\n",
       "      <td>o</td>\n",
       "      <td>e</td>\n",
       "      <td>n</td>\n",
       "      <td>s</td>\n",
       "      <td>g</td>\n",
       "      <td>f</td>\n",
       "    </tr>\n",
       "    <tr>\n",
       "      <th>2031</th>\n",
       "      <td>e</td>\n",
       "      <td>f</td>\n",
       "      <td>e</td>\n",
       "      <td>t</td>\n",
       "      <td>n</td>\n",
       "      <td>f</td>\n",
       "      <td>c</td>\n",
       "      <td>b</td>\n",
       "      <td>w</td>\n",
       "      <td>t</td>\n",
       "      <td>...</td>\n",
       "      <td>p</td>\n",
       "      <td>p</td>\n",
       "      <td>p</td>\n",
       "      <td>w</td>\n",
       "      <td>o</td>\n",
       "      <td>p</td>\n",
       "      <td>k</td>\n",
       "      <td>y</td>\n",
       "      <td>d</td>\n",
       "      <td>x</td>\n",
       "    </tr>\n",
       "    <tr>\n",
       "      <th>2032</th>\n",
       "      <td>e</td>\n",
       "      <td>y</td>\n",
       "      <td>n</td>\n",
       "      <td>t</td>\n",
       "      <td>n</td>\n",
       "      <td>f</td>\n",
       "      <td>c</td>\n",
       "      <td>b</td>\n",
       "      <td>p</td>\n",
       "      <td>t</td>\n",
       "      <td>...</td>\n",
       "      <td>g</td>\n",
       "      <td>g</td>\n",
       "      <td>p</td>\n",
       "      <td>w</td>\n",
       "      <td>o</td>\n",
       "      <td>p</td>\n",
       "      <td>k</td>\n",
       "      <td>y</td>\n",
       "      <td>d</td>\n",
       "      <td>f</td>\n",
       "    </tr>\n",
       "    <tr>\n",
       "      <th>2033</th>\n",
       "      <td>e</td>\n",
       "      <td>y</td>\n",
       "      <td>g</td>\n",
       "      <td>t</td>\n",
       "      <td>n</td>\n",
       "      <td>f</td>\n",
       "      <td>c</td>\n",
       "      <td>b</td>\n",
       "      <td>u</td>\n",
       "      <td>t</td>\n",
       "      <td>...</td>\n",
       "      <td>p</td>\n",
       "      <td>g</td>\n",
       "      <td>p</td>\n",
       "      <td>w</td>\n",
       "      <td>o</td>\n",
       "      <td>p</td>\n",
       "      <td>k</td>\n",
       "      <td>v</td>\n",
       "      <td>d</td>\n",
       "      <td>x</td>\n",
       "    </tr>\n",
       "    <tr>\n",
       "      <th>2034</th>\n",
       "      <td>e</td>\n",
       "      <td>s</td>\n",
       "      <td>g</td>\n",
       "      <td>f</td>\n",
       "      <td>n</td>\n",
       "      <td>f</td>\n",
       "      <td>w</td>\n",
       "      <td>b</td>\n",
       "      <td>p</td>\n",
       "      <td>t</td>\n",
       "      <td>...</td>\n",
       "      <td>w</td>\n",
       "      <td>w</td>\n",
       "      <td>p</td>\n",
       "      <td>w</td>\n",
       "      <td>o</td>\n",
       "      <td>e</td>\n",
       "      <td>n</td>\n",
       "      <td>a</td>\n",
       "      <td>g</td>\n",
       "      <td>x</td>\n",
       "    </tr>\n",
       "    <tr>\n",
       "      <th>...</th>\n",
       "      <td>...</td>\n",
       "      <td>...</td>\n",
       "      <td>...</td>\n",
       "      <td>...</td>\n",
       "      <td>...</td>\n",
       "      <td>...</td>\n",
       "      <td>...</td>\n",
       "      <td>...</td>\n",
       "      <td>...</td>\n",
       "      <td>...</td>\n",
       "      <td>...</td>\n",
       "      <td>...</td>\n",
       "      <td>...</td>\n",
       "      <td>...</td>\n",
       "      <td>...</td>\n",
       "      <td>...</td>\n",
       "      <td>...</td>\n",
       "      <td>...</td>\n",
       "      <td>...</td>\n",
       "      <td>...</td>\n",
       "      <td>...</td>\n",
       "    </tr>\n",
       "    <tr>\n",
       "      <th>8118</th>\n",
       "      <td>e</td>\n",
       "      <td>s</td>\n",
       "      <td>n</td>\n",
       "      <td>f</td>\n",
       "      <td>n</td>\n",
       "      <td>a</td>\n",
       "      <td>c</td>\n",
       "      <td>b</td>\n",
       "      <td>y</td>\n",
       "      <td>e</td>\n",
       "      <td>...</td>\n",
       "      <td>o</td>\n",
       "      <td>o</td>\n",
       "      <td>p</td>\n",
       "      <td>o</td>\n",
       "      <td>o</td>\n",
       "      <td>p</td>\n",
       "      <td>b</td>\n",
       "      <td>c</td>\n",
       "      <td>l</td>\n",
       "      <td>k</td>\n",
       "    </tr>\n",
       "    <tr>\n",
       "      <th>8119</th>\n",
       "      <td>e</td>\n",
       "      <td>s</td>\n",
       "      <td>n</td>\n",
       "      <td>f</td>\n",
       "      <td>n</td>\n",
       "      <td>a</td>\n",
       "      <td>c</td>\n",
       "      <td>b</td>\n",
       "      <td>y</td>\n",
       "      <td>e</td>\n",
       "      <td>...</td>\n",
       "      <td>o</td>\n",
       "      <td>o</td>\n",
       "      <td>p</td>\n",
       "      <td>n</td>\n",
       "      <td>o</td>\n",
       "      <td>p</td>\n",
       "      <td>b</td>\n",
       "      <td>v</td>\n",
       "      <td>l</td>\n",
       "      <td>x</td>\n",
       "    </tr>\n",
       "    <tr>\n",
       "      <th>8120</th>\n",
       "      <td>e</td>\n",
       "      <td>s</td>\n",
       "      <td>n</td>\n",
       "      <td>f</td>\n",
       "      <td>n</td>\n",
       "      <td>a</td>\n",
       "      <td>c</td>\n",
       "      <td>b</td>\n",
       "      <td>n</td>\n",
       "      <td>e</td>\n",
       "      <td>...</td>\n",
       "      <td>o</td>\n",
       "      <td>o</td>\n",
       "      <td>p</td>\n",
       "      <td>o</td>\n",
       "      <td>o</td>\n",
       "      <td>p</td>\n",
       "      <td>b</td>\n",
       "      <td>c</td>\n",
       "      <td>l</td>\n",
       "      <td>f</td>\n",
       "    </tr>\n",
       "    <tr>\n",
       "      <th>8121</th>\n",
       "      <td>p</td>\n",
       "      <td>y</td>\n",
       "      <td>n</td>\n",
       "      <td>f</td>\n",
       "      <td>y</td>\n",
       "      <td>f</td>\n",
       "      <td>c</td>\n",
       "      <td>n</td>\n",
       "      <td>b</td>\n",
       "      <td>t</td>\n",
       "      <td>...</td>\n",
       "      <td>w</td>\n",
       "      <td>w</td>\n",
       "      <td>p</td>\n",
       "      <td>w</td>\n",
       "      <td>o</td>\n",
       "      <td>e</td>\n",
       "      <td>w</td>\n",
       "      <td>v</td>\n",
       "      <td>l</td>\n",
       "      <td>k</td>\n",
       "    </tr>\n",
       "    <tr>\n",
       "      <th>8122</th>\n",
       "      <td>e</td>\n",
       "      <td>s</td>\n",
       "      <td>n</td>\n",
       "      <td>f</td>\n",
       "      <td>n</td>\n",
       "      <td>a</td>\n",
       "      <td>c</td>\n",
       "      <td>b</td>\n",
       "      <td>y</td>\n",
       "      <td>e</td>\n",
       "      <td>...</td>\n",
       "      <td>o</td>\n",
       "      <td>o</td>\n",
       "      <td>p</td>\n",
       "      <td>o</td>\n",
       "      <td>o</td>\n",
       "      <td>p</td>\n",
       "      <td>o</td>\n",
       "      <td>c</td>\n",
       "      <td>l</td>\n",
       "      <td>x</td>\n",
       "    </tr>\n",
       "  </tbody>\n",
       "</table>\n",
       "<p>6093 rows × 23 columns</p>\n",
       "</div>"
      ],
      "text/plain": [
       "     e;mv;pdmnv  y  y  t  l  f  c  b  g  e  ...  w  w  p  w  o  p  n  n  g  \\\n",
       "2030          e  s  n  f  n  f  w  b  h  t  ...  w  w  p  w  o  e  n  s  g   \n",
       "2031          e  f  e  t  n  f  c  b  w  t  ...  p  p  p  w  o  p  k  y  d   \n",
       "2032          e  y  n  t  n  f  c  b  p  t  ...  g  g  p  w  o  p  k  y  d   \n",
       "2033          e  y  g  t  n  f  c  b  u  t  ...  p  g  p  w  o  p  k  v  d   \n",
       "2034          e  s  g  f  n  f  w  b  p  t  ...  w  w  p  w  o  e  n  a  g   \n",
       "...         ... .. .. .. .. .. .. .. .. ..  ... .. .. .. .. .. .. .. .. ..   \n",
       "8118          e  s  n  f  n  a  c  b  y  e  ...  o  o  p  o  o  p  b  c  l   \n",
       "8119          e  s  n  f  n  a  c  b  y  e  ...  o  o  p  n  o  p  b  v  l   \n",
       "8120          e  s  n  f  n  a  c  b  n  e  ...  o  o  p  o  o  p  b  c  l   \n",
       "8121          p  y  n  f  y  f  c  n  b  t  ...  w  w  p  w  o  e  w  v  l   \n",
       "8122          e  s  n  f  n  a  c  b  y  e  ...  o  o  p  o  o  p  o  c  l   \n",
       "\n",
       "     xlkdnvdkd  \n",
       "2030         f  \n",
       "2031         x  \n",
       "2032         f  \n",
       "2033         x  \n",
       "2034         x  \n",
       "...        ...  \n",
       "8118         k  \n",
       "8119         x  \n",
       "8120         f  \n",
       "8121         k  \n",
       "8122         x  \n",
       "\n",
       "[6093 rows x 23 columns]"
      ]
     },
     "execution_count": 39,
     "metadata": {},
     "output_type": "execute_result"
    }
   ],
   "source": []
  },
  {
   "cell_type": "code",
   "execution_count": 43,
   "id": "a9c2df35",
   "metadata": {},
   "outputs": [
    {
     "data": {
      "text/plain": [
       "'kk'"
      ]
     },
     "metadata": {},
     "output_type": "display_data"
    }
   ],
   "source": [
    "l ={\"s\":1}\n",
    "if l:\n",
    "    display(\"kk\")"
   ]
  },
  {
   "cell_type": "code",
   "execution_count": 47,
   "id": "1e3f2cbd",
   "metadata": {},
   "outputs": [
    {
     "data": {
      "text/plain": [
       "'e'"
      ]
     },
     "execution_count": 47,
     "metadata": {},
     "output_type": "execute_result"
    }
   ],
   "source": [
    "df[\"e;mv;pdmnv\"].unique()[0]"
   ]
  },
  {
   "cell_type": "code",
   "execution_count": 48,
   "id": "557130a6",
   "metadata": {},
   "outputs": [],
   "source": [
    "a = {\n",
    "    \"yes\": {\n",
    "        \"income\": {\n",
    "            \"high\": 0.25,\n",
    "            \"medium\": 0.4166666666666667,\n",
    "            \"low\": 0.3333333333333333\n",
    "        },\n",
    "        \"student\": {\n",
    "            \"no\": 0.36363636363636365,\n",
    "            \"yes\": 0.6363636363636364\n",
    "        },\n",
    "        \"credit_rating\": {\n",
    "            \"fair\": 0.6363636363636364,\n",
    "            \"excellent\": 0.36363636363636365\n",
    "        },\n",
    "        \"age_group\": {\n",
    "            \"Very Young\": 0.25,\n",
    "            \"Young\": 0.4166666666666667,\n",
    "            \"Senior\": 0.3333333333333333\n",
    "        }\n",
    "    },\n",
    "    \"no\": {\n",
    "        \"income\": {\n",
    "            \"high\": 0.375,\n",
    "            \"medium\": 0.375,\n",
    "            \"low\": 0.25\n",
    "        },\n",
    "        \"student\": {\n",
    "            \"no\": 0.7142857142857143,\n",
    "            \"yes\": 0.2857142857142857\n",
    "        },\n",
    "        \"credit_rating\": {\n",
    "            \"fair\": 0.42857142857142855,\n",
    "            \"excellent\": 0.5714285714285714\n",
    "        },\n",
    "        \"age_group\": {\n",
    "            \"Very Young\": 0.5,\n",
    "            \"Young\": 0.125,\n",
    "            \"Senior\": 0.375\n",
    "        }\n",
    "    },\n",
    "    \"target_variable_Percentage_Yes\": 0.6428571428571429,\n",
    "    \"target_variable_Percent_No\": 0.35714285714285715\n",
    "}"
   ]
  },
  {
   "cell_type": "code",
   "execution_count": null,
   "id": "1b79e43c",
   "metadata": {},
   "outputs": [
    {
     "ename": "KeyError",
     "evalue": "0",
     "output_type": "error",
     "traceback": [
      "\u001b[31m---------------------------------------------------------------------------\u001b[39m",
      "\u001b[31mKeyError\u001b[39m                                  Traceback (most recent call last)",
      "\u001b[36mCell\u001b[39m\u001b[36m \u001b[39m\u001b[32mIn[50]\u001b[39m\u001b[32m, line 1\u001b[39m\n\u001b[32m----> \u001b[39m\u001b[32m1\u001b[39m \u001b[43ma\u001b[49m\u001b[43m[\u001b[49m\u001b[32;43m0\u001b[39;49m\u001b[43m]\u001b[49m\n",
      "\u001b[31mKeyError\u001b[39m: 0"
     ]
    }
   ],
   "source": [
    "a"
   ]
  }
 ],
 "metadata": {
  "kernelspec": {
   "display_name": ".venv",
   "language": "python",
   "name": "python3"
  },
  "language_info": {
   "codemirror_mode": {
    "name": "ipython",
    "version": 3
   },
   "file_extension": ".py",
   "mimetype": "text/x-python",
   "name": "python",
   "nbconvert_exporter": "python",
   "pygments_lexer": "ipython3",
   "version": "3.13.3"
  }
 },
 "nbformat": 4,
 "nbformat_minor": 5
}
